{
 "cells": [
  {
   "cell_type": "code",
   "execution_count": 3,
   "metadata": {},
   "outputs": [],
   "source": [
    "import numpy as np\n",
    "from scipy import stats\n",
    "rng = np.random.default_rng()\n",
    "target1 = stats.uniform.rvs(size=100, random_state=rng)\n",
    "target2 = stats.norm.rvs(size=110, random_state=rng)\n",
    "response = stats.ks_2samp(sample1, sample2)"
   ]
  },
  {
   "cell_type": "code",
   "execution_count": 4,
   "metadata": {},
   "outputs": [
    {
     "data": {
      "text/plain": [
       "array([0.72790976, 0.08391243, 0.76285316, 0.70331351, 0.19773465,\n",
       "       0.38155753, 0.75918258, 0.17155075, 0.81775296, 0.35171615,\n",
       "       0.07807103, 0.82949788, 0.16313888, 0.59967772, 0.3437038 ,\n",
       "       0.85547884, 0.70675471, 0.30908495, 0.84008743, 0.04298194,\n",
       "       0.57197099, 0.52472626, 0.93092672, 0.99477904, 0.11879018,\n",
       "       0.97861694, 0.06401199, 0.35858202, 0.19928217, 0.69139038,\n",
       "       0.65302973, 0.91774059, 0.43517429, 0.2747915 , 0.67970226,\n",
       "       0.44165007, 0.47631107, 0.70625615, 0.06487074, 0.35499808,\n",
       "       0.06694669, 0.44971019, 0.88023506, 0.1108084 , 0.49268023,\n",
       "       0.64597104, 0.03231276, 0.03340534, 0.83985954, 0.20217633,\n",
       "       0.93889315, 0.64335992, 0.76090139, 0.28497641, 0.35483035,\n",
       "       0.28766148, 0.31048899, 0.40365833, 0.05856761, 0.65676846,\n",
       "       0.6955162 , 0.37426726, 0.70169408, 0.69733071, 0.47457617,\n",
       "       0.28000111, 0.72020588, 0.94176951, 0.51076878, 0.22747621,\n",
       "       0.20318639, 0.34681846, 0.30781188, 0.2448202 , 0.66546771,\n",
       "       0.72179147, 0.52787022, 0.44391102, 0.23457125, 0.38182432,\n",
       "       0.70832389, 0.31604964, 0.51465615, 0.45103132, 0.37610801,\n",
       "       0.41373822, 0.61155042, 0.88528126, 0.00691111, 0.56857989,\n",
       "       0.54780557, 0.72057934, 0.34114322, 0.85956452, 0.59578501,\n",
       "       0.33912286, 0.32874334, 0.60257982, 0.65272546, 0.28467853])"
      ]
     },
     "execution_count": 4,
     "metadata": {},
     "output_type": "execute_result"
    }
   ],
   "source": [
    "sample1"
   ]
  },
  {
   "cell_type": "code",
   "execution_count": 5,
   "metadata": {},
   "outputs": [
    {
     "data": {
      "text/plain": [
       "array([-0.59426913,  1.24586972, -0.89377051, -0.16040504, -0.47522194,\n",
       "       -0.32447498,  0.73822052,  0.31351645,  0.19049335, -0.48988464,\n",
       "        0.03547384, -0.77278288,  0.97076896, -0.66118151, -1.42176439,\n",
       "        0.70210204, -0.10240318,  0.87989692,  0.22044294, -0.08487762,\n",
       "        1.02754584,  1.03080301, -1.07685918,  0.90130678,  1.24789473,\n",
       "       -1.66404049,  0.34354699,  0.12381024,  1.2612053 , -1.19133731,\n",
       "        0.10035744,  0.79881334,  0.35860373, -1.47899674,  0.6531586 ,\n",
       "        0.98012096, -2.5209289 , -2.30777328,  0.72349891, -0.8424239 ,\n",
       "       -1.3630471 , -0.51974972, -0.29705087,  0.68539278, -1.00688629,\n",
       "        0.25427217,  0.82851861,  0.55001861,  0.26503123,  0.55763137,\n",
       "       -1.29815803,  1.61278164, -0.43488736, -2.19445023, -0.91732923,\n",
       "        0.58118727,  1.39079191,  0.15254297,  0.60938912, -0.35140551,\n",
       "       -2.4521814 , -1.20394389, -1.03649922,  0.8837489 ,  0.750309  ,\n",
       "        0.80511792, -0.99179067,  0.74309299,  0.25659217, -0.30890935,\n",
       "        0.13842702,  0.42177556,  0.90433597,  1.70235033,  2.02074458,\n",
       "       -0.72656234,  0.06170085, -0.55767559,  0.91260558, -0.3007232 ,\n",
       "       -0.08736774, -0.10025381, -1.64893591,  0.81547144,  2.4584816 ,\n",
       "       -0.96645251, -0.55371336,  1.14436352,  0.61647839,  0.07364058,\n",
       "       -0.57886905, -0.06366643, -0.34724182, -0.66454272,  0.13958429,\n",
       "       -1.47650078, -0.30395922, -0.29963366,  0.58659021, -0.58540941,\n",
       "        0.05505851, -0.25501529, -0.08829138, -1.40265945, -1.76050986,\n",
       "        1.67259719,  0.16295553, -0.87878015,  0.65089645,  0.00730756])"
      ]
     },
     "execution_count": 5,
     "metadata": {},
     "output_type": "execute_result"
    }
   ],
   "source": [
    "sample2"
   ]
  },
  {
   "cell_type": "code",
   "execution_count": 11,
   "metadata": {},
   "outputs": [
    {
     "data": {
      "text/plain": [
       "1.46225e-11"
      ]
     },
     "execution_count": 11,
     "metadata": {},
     "output_type": "execute_result"
    }
   ],
   "source": [
    "round(response.pvalue,16)"
   ]
  },
  {
   "cell_type": "code",
   "execution_count": null,
   "metadata": {},
   "outputs": [],
   "source": [
    "#Anomly in my dataset\n",
    "# \n",
    "# 1.High Null Value\n",
    "2. Missing COlumns\n",
    "3. Outlier\n",
    "4. Categorical: \n",
    "Gender--> MALE, FEMALE,OTHER\n"
   ]
  },
  {
   "cell_type": "code",
   "execution_count": 1,
   "metadata": {},
   "outputs": [],
   "source": [
    "import pandas as pd"
   ]
  },
  {
   "cell_type": "code",
   "execution_count": 15,
   "metadata": {},
   "outputs": [
    {
     "name": "stdout",
     "output_type": "stream",
     "text": [
      "1 4\n",
      "2 5\n",
      "3 6\n",
      "4 7\n"
     ]
    }
   ],
   "source": [
    "l1=[1,2,3,4]\n",
    "l2=[4,5,6,7]\n",
    "\n",
    "for l1_val,l2_val in zip(l1,l2):\n",
    "    print(l1_val,l2_val)"
   ]
  },
  {
   "cell_type": "code",
   "execution_count": 30,
   "metadata": {},
   "outputs": [],
   "source": [
    "df = pd.read_csv(\"/config/workspace/artifact/11272022__185759/data_ingestion/dataset/train.csv\")"
   ]
  },
  {
   "cell_type": "code",
   "execution_count": 38,
   "metadata": {},
   "outputs": [
    {
     "data": {
      "text/plain": [
       "0"
      ]
     },
     "execution_count": 38,
     "metadata": {},
     "output_type": "execute_result"
    }
   ],
   "source": [
    "len(df.iloc[:,[0]].drop(\"class\",axis=1).columns)"
   ]
  },
  {
   "cell_type": "code",
   "execution_count": 28,
   "metadata": {},
   "outputs": [
    {
     "data": {
      "text/plain": [
       "Index(['ab_000', 'bk_000', 'bl_000', 'bm_000', 'bn_000', 'bo_000', 'bp_000',\n",
       "       'bq_000', 'br_000', 'cr_000'],\n",
       "      dtype='object')"
      ]
     },
     "execution_count": 28,
     "metadata": {},
     "output_type": "execute_result"
    }
   ],
   "source": []
  },
  {
   "cell_type": "code",
   "execution_count": 1,
   "metadata": {},
   "outputs": [],
   "source": [
    "from glob import glob"
   ]
  },
  {
   "cell_type": "code",
   "execution_count": 5,
   "metadata": {},
   "outputs": [
    {
     "data": {
      "text/plain": [
       "['/config/workspace/saved_models/1/model/model.pkl']"
      ]
     },
     "execution_count": 5,
     "metadata": {},
     "output_type": "execute_result"
    }
   ],
   "source": [
    "glob(\"/config/workspace/saved_models/1/**/*.pkl\")"
   ]
  },
  {
   "cell_type": "code",
   "execution_count": 7,
   "metadata": {},
   "outputs": [
    {
     "data": {
      "text/plain": [
       "'1'"
      ]
     },
     "execution_count": 7,
     "metadata": {},
     "output_type": "execute_result"
    }
   ],
   "source": [
    "import os\n",
    "\n",
    "os.path.basename(\"saved_mode/1\")"
   ]
  },
  {
   "cell_type": "code",
   "execution_count": null,
   "metadata": {},
   "outputs": [],
   "source": []
  }
 ],
 "metadata": {
  "kernelspec": {
   "display_name": "Python 3.8.10 64-bit",
   "language": "python",
   "name": "python3"
  },
  "language_info": {
   "codemirror_mode": {
    "name": "ipython",
    "version": 3
   },
   "file_extension": ".py",
   "mimetype": "text/x-python",
   "name": "python",
   "nbconvert_exporter": "python",
   "pygments_lexer": "ipython3",
   "version": "3.8.10"
  },
  "orig_nbformat": 4,
  "vscode": {
   "interpreter": {
    "hash": "e7370f93d1d0cde622a1f8e1c04877d8463912d04d973331ad4851f04de6915a"
   }
  }
 },
 "nbformat": 4,
 "nbformat_minor": 2
}
